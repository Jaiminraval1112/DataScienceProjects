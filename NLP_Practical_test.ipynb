{
 "cells": [
  {
   "cell_type": "code",
   "execution_count": 2,
   "id": "7a9b7821",
   "metadata": {},
   "outputs": [
    {
     "name": "stdout",
     "output_type": "stream",
     "text": [
      "Defaulting to user installation because normal site-packages is not writeableNote: you may need to restart the kernel to use updated packages.\n",
      "Requirement already satisfied: pytesseract in c:\\users\\lenovo\\appdata\\roaming\\python\\python39\\site-packages (0.3.10)\n",
      "Requirement already satisfied: packaging>=21.3 in c:\\programdata\\anaconda3\\lib\\site-packages (from pytesseract) (21.3)\n",
      "Requirement already satisfied: Pillow>=8.0.0 in c:\\programdata\\anaconda3\\lib\\site-packages (from pytesseract) (9.0.1)\n",
      "Requirement already satisfied: pyparsing!=3.0.5,>=2.0.2 in c:\\programdata\\anaconda3\\lib\\site-packages (from packaging>=21.3->pytesseract) (3.0.4)\n",
      "\n"
     ]
    }
   ],
   "source": [
    "pip install pytesseract"
   ]
  },
  {
   "cell_type": "code",
   "execution_count": 4,
   "id": "50b6680d",
   "metadata": {},
   "outputs": [
    {
     "name": "stdout",
     "output_type": "stream",
     "text": [
      "Defaulting to user installation because normal site-packages is not writeable\n",
      "Collecting Document\n",
      "  Downloading document-1.0.zip (12 kB)\n",
      "Building wheels for collected packages: Document\n",
      "  Building wheel for Document (setup.py): started\n",
      "  Building wheel for Document (setup.py): finished with status 'done'\n",
      "  Created wheel for Document: filename=document-1.0-py3-none-any.whl size=8783 sha256=d0107a8edb10d20406b47c9ecf62cb5038556227bb7454cc3d55087d8112c91e\n",
      "  Stored in directory: c:\\users\\lenovo\\appdata\\local\\pip\\cache\\wheels\\6d\\f2\\ef\\d3c7498af6e9d279ef623ab6329bd336d741e66b55311ede5f\n",
      "Successfully built Document\n",
      "Installing collected packages: Document\n",
      "Successfully installed Document-1.0\n",
      "Note: you may need to restart the kernel to use updated packages.\n"
     ]
    }
   ],
   "source": [
    "pip install Document"
   ]
  },
  {
   "cell_type": "code",
   "execution_count": 5,
   "id": "afadf364",
   "metadata": {},
   "outputs": [
    {
     "name": "stdout",
     "output_type": "stream",
     "text": [
      "Defaulting to user installation because normal site-packages is not writeable\n",
      "Collecting docx\n",
      "  Downloading docx-0.2.4.tar.gz (54 kB)\n",
      "Requirement already satisfied: lxml in c:\\programdata\\anaconda3\\lib\\site-packages (from docx) (4.8.0)\n",
      "Requirement already satisfied: Pillow>=2.0 in c:\\programdata\\anaconda3\\lib\\site-packages (from docx) (9.0.1)\n",
      "Building wheels for collected packages: docx\n",
      "  Building wheel for docx (setup.py): started\n",
      "  Building wheel for docx (setup.py): finished with status 'done'\n",
      "  Created wheel for docx: filename=docx-0.2.4-py3-none-any.whl size=53924 sha256=c208012acce71c51d2837dcc330ed86d40b5e61962b85fb29f91cfb8809e3ce3\n",
      "  Stored in directory: c:\\users\\lenovo\\appdata\\local\\pip\\cache\\wheels\\0f\\8e\\9d\\7003eed35a84cf960876aae6bdf60d02041ddfcca66eceee94\n",
      "Successfully built docx\n",
      "Installing collected packages: docx\n",
      "Successfully installed docx-0.2.4\n",
      "Defaulting to user installation because normal site-packages is not writeable\n",
      "Collecting python-docx\n",
      "  Downloading python-docx-0.8.11.tar.gz (5.6 MB)\n",
      "Requirement already satisfied: lxml>=2.3.2 in c:\\programdata\\anaconda3\\lib\\site-packages (from python-docx) (4.8.0)\n",
      "Building wheels for collected packages: python-docx\n",
      "  Building wheel for python-docx (setup.py): started\n",
      "  Building wheel for python-docx (setup.py): finished with status 'done'\n",
      "  Created wheel for python-docx: filename=python_docx-0.8.11-py3-none-any.whl size=184507 sha256=e1c4b549e622c5967fdac4a1fb282c85fa841501fcfb5a28a031d334c2c17085\n",
      "  Stored in directory: c:\\users\\lenovo\\appdata\\local\\pip\\cache\\wheels\\83\\8b\\7c\\09ae60c42c7ba4ed2dddaf2b8b9186cb105255856d6ed3dba5\n",
      "Successfully built python-docx\n",
      "Installing collected packages: python-docx\n",
      "Successfully installed python-docx-0.8.11\n"
     ]
    }
   ],
   "source": [
    "!pip install docx\n",
    "!pip install python-docx"
   ]
  },
  {
   "cell_type": "code",
   "execution_count": 6,
   "id": "ff3704c9",
   "metadata": {},
   "outputs": [
    {
     "name": "stdout",
     "output_type": "stream",
     "text": [
      "Defaulting to user installation because normal site-packages is not writeable\n",
      "Requirement already satisfied: pytesseract[tesseract] in c:\\users\\lenovo\\appdata\\roaming\\python\\python39\\site-packages (0.3.10)\n",
      "Requirement already satisfied: packaging>=21.3 in c:\\programdata\\anaconda3\\lib\\site-packages (from pytesseract[tesseract]) (21.3)\n",
      "Requirement already satisfied: Pillow>=8.0.0 in c:\\programdata\\anaconda3\\lib\\site-packages (from pytesseract[tesseract]) (9.0.1)\n",
      "Requirement already satisfied: pyparsing!=3.0.5,>=2.0.2 in c:\\programdata\\anaconda3\\lib\\site-packages (from packaging>=21.3->pytesseract[tesseract]) (3.0.4)\n"
     ]
    },
    {
     "name": "stderr",
     "output_type": "stream",
     "text": [
      "WARNING: pytesseract 0.3.10 does not provide the extra 'tesseract'\n"
     ]
    }
   ],
   "source": [
    "!pip install pytesseract[tesseract]"
   ]
  },
  {
   "cell_type": "code",
   "execution_count": 10,
   "id": "992e2e0f",
   "metadata": {},
   "outputs": [
    {
     "name": "stdout",
     "output_type": "stream",
     "text": [
      "Defaulting to user installation because normal site-packages is not writeable\n",
      "Requirement already satisfied: PyPDF2 in c:\\users\\lenovo\\appdata\\roaming\\python\\python39\\site-packages (3.0.1)\n",
      "Requirement already satisfied: typing_extensions>=3.10.0.0 in c:\\programdata\\anaconda3\\lib\\site-packages (from PyPDF2) (4.1.1)\n",
      "Note: you may need to restart the kernel to use updated packages.\n"
     ]
    }
   ],
   "source": [
    "pip install PyPDF2"
   ]
  },
  {
   "cell_type": "code",
   "execution_count": 2,
   "id": "1e146983",
   "metadata": {},
   "outputs": [
    {
     "name": "stdout",
     "output_type": "stream",
     "text": [
      "Defaulting to user installation because normal site-packages is not writeable\n",
      "Requirement already satisfied: pytesseract in c:\\users\\lenovo\\appdata\\roaming\\python\\python39\\site-packages (0.3.10)\n",
      "Requirement already satisfied: packaging>=21.3 in c:\\programdata\\anaconda3\\lib\\site-packages (from pytesseract) (21.3)\n",
      "Requirement already satisfied: Pillow>=8.0.0 in c:\\programdata\\anaconda3\\lib\\site-packages (from pytesseract) (9.0.1)\n",
      "Requirement already satisfied: pyparsing!=3.0.5,>=2.0.2 in c:\\programdata\\anaconda3\\lib\\site-packages (from packaging>=21.3->pytesseract) (3.0.4)\n",
      "Note: you may need to restart the kernel to use updated packages.\n"
     ]
    }
   ],
   "source": [
    "pip install pytesseract"
   ]
  },
  {
   "cell_type": "code",
   "execution_count": 2,
   "id": "b78bffaa",
   "metadata": {},
   "outputs": [],
   "source": [
    "import os\n",
    "import pytesseract\n",
    "from PIL import Image\n",
    "from docx import Document\n",
    "import hashlib\n",
    "from difflib import SequenceMatcher\n",
    "import PyPDF2\n",
    "import pytesseract\n",
    "from PIL import Image"
   ]
  },
  {
   "cell_type": "code",
   "execution_count": 38,
   "id": "292ecf95",
   "metadata": {},
   "outputs": [],
   "source": [
    "# pytesseract.pytesseract.tesseract_cmd = r'C:\\Program Files\\Tesseract-OCR' # install & add path in your env\n",
    "pytesseract.pytesseract.tesseract_cmd = r'C:\\Program Files\\Tesseract-OCR\\tesseract.exe' # install & add path in your env"
   ]
  },
  {
   "cell_type": "code",
   "execution_count": 39,
   "id": "2c591f22",
   "metadata": {},
   "outputs": [],
   "source": [
    "def extract_text_from_image (image_path):\n",
    "    # Load the image using PIL\n",
    "    image = Image.open(image_path)\n",
    "    # Use Pytesseract to extract text from the image\n",
    "    text = pytesseract.image_to_string(image)\n",
    "    return text\n",
    "\n",
    "def extract_text_from_pdf(pdf_path):\n",
    "    # Open the PDF file\n",
    "\n",
    "    with open(pdf_path, \"rb\") as file:\n",
    "        # Initialize the PDF reader\n",
    "        reader = PyPDF2.PdfReader(file)\n",
    "\n",
    "        # Extract text from all pages\n",
    "        text = \"\"\n",
    "        for page in reader.pages:\n",
    "            text += page.extract_text()\n",
    "            return text\n",
    "\n",
    "def correct_text(text):\n",
    "    corrected_text = text\n",
    "    return corrected_text"
   ]
  },
  {
   "cell_type": "code",
   "execution_count": 40,
   "id": "759f0638",
   "metadata": {},
   "outputs": [],
   "source": [
    "import re"
   ]
  },
  {
   "cell_type": "code",
   "execution_count": 41,
   "id": "42486190",
   "metadata": {},
   "outputs": [],
   "source": [
    "def remove_non_xml_chars(text):\n",
    "    # Remove control characters and non-XML compatible characters\n",
    "\n",
    "    xml_text = re.sub(r\"[\\x00-\\x08\\x0b\\x0c\\x0e-\\x1F\\x7F-\\x9F]\", \"\", text)\n",
    "    return xml_text\n",
    "\n",
    "def convert_to_word(text, output_path):\n",
    "    # Create a new Word document\n",
    "\n",
    "    doc = Document()\n",
    "    # Remove control characters and non-XML compatible characters\n",
    "    cleaned_text = remove_non_xml_chars(text)\n",
    "    \n",
    "    # Add the corrected text to the document\n",
    "    doc.add_paragraph(cleaned_text)\n",
    "    \n",
    "    # Save the document to the specified output path\n",
    "    doc.save(output_path)\n",
    "    \n",
    "def extract_text_from_docx(docx_path):\n",
    "    # Open the Word document\n",
    "    doc = Document(docx_path)\n",
    "    \n",
    "    # Extract text from all paragraphs in the document\n",
    "    text = \"\"\n",
    "    for paragraph in doc.paragraphs:\n",
    "        text += paragraph.text\n",
    "        return text\n",
    "\n",
    "def generate_document_fingerprint(text):\n",
    "    # Generate a hash of the document text using SHA-256\n",
    "    document_hash = hashlib.sha256(text.encode()).hexdigest()\n",
    "    calculate_text_similarity\n",
    "    return document_hash\n",
    "\n",
    "def calculate_text_similarity(text1, text2):\n",
    "    # Calculate the similarity between two texts using SequenceMatcher\n",
    "\n",
    "    similarity_ratio = SequenceMatcher(None, text1, text2).ratio()\n",
    "    return similarity_ratio"
   ]
  },
  {
   "cell_type": "code",
   "execution_count": 42,
   "id": "d66cc348",
   "metadata": {},
   "outputs": [],
   "source": [
    "def analyze_document_modification(original_text, converted_text):\n",
    "    # Calculate the similarity between the original and converted text\n",
    "    similarity = calculate_text_similarity(original_text, converted_text)\n",
    "    # Define a threshold for similarity below which the document is considered modified/forged\n",
    "    \n",
    "    similarity_threshold = 0.8  # We can change as per requirements\n",
    "    \n",
    "    if similarity < similarity_threshold:\n",
    "        return \"Modified/Forged\"\n",
    "    else:\n",
    "        return \"Not Modified/Forged\""
   ]
  },
  {
   "cell_type": "code",
   "execution_count": 43,
   "id": "1ef66435",
   "metadata": {},
   "outputs": [],
   "source": [
    "input_folder = \"C:/Users/LENOVO/Desktop/documents\"\n",
    "input_files = ['File -1 Pre Medicine and Reports.pdf', 'File-2 Admitted and Discharge Summary.pdf',\n",
    " 'FIle-3 Post Medicine and Reports.pdf', 'File-4 Cancelled Cheque.pdf', 'image-1.jpg']\n",
    "\n",
    "output_folder = \"C:/Users/LENOVO/Desktop/documents\"\n",
    "os.makedirs(output_folder, exist_ok=True)\n",
    "\n",
    "for file_name in input_files:\n",
    "    # Construct the full path \n",
    "    input_path = os.path.join(input_folder, file_name)\n",
    "    \n",
    "    if file_name.lower().endswith(\".pdf\"):\n",
    "        extracted_text = extract_text_from_pdf(input_path)\n",
    "    else:\n",
    "        extracted_text = extract_text_from_image(input_path)\n",
    "        \n",
    "        # Apply necessary corrections to the extracted text\n",
    "        corrected_text = correct_text(extracted_text)\n",
    "        \n",
    "        # Convert the corrected text into a Word document\n",
    "        output_file_name = os.path.splitext(file_name)[0] + \".docx\"\n",
    "        output_path = os.path.join(output_folder, output_file_name)\n",
    "        convert_to_word(corrected_text, output_path)\n",
    "        \n",
    "        # Generate a fingerprint/hash of the original text\n",
    "        original_fingerprint = generate_document_fingerprint(extracted_text)\n",
    "        \n",
    "        # Generate a fingerprint/hash of the converted text\n",
    "        \n",
    "        converted_text = extract_text_from_docx(output_path)\n",
    "        converted_fingerprint = generate_document_fingerprint(converted_text)"
   ]
  },
  {
   "cell_type": "code",
   "execution_count": null,
   "id": "957ec9f7",
   "metadata": {},
   "outputs": [],
   "source": []
  }
 ],
 "metadata": {
  "kernelspec": {
   "display_name": "Python 3 (ipykernel)",
   "language": "python",
   "name": "python3"
  },
  "language_info": {
   "codemirror_mode": {
    "name": "ipython",
    "version": 3
   },
   "file_extension": ".py",
   "mimetype": "text/x-python",
   "name": "python",
   "nbconvert_exporter": "python",
   "pygments_lexer": "ipython3",
   "version": "3.9.12"
  }
 },
 "nbformat": 4,
 "nbformat_minor": 5
}
